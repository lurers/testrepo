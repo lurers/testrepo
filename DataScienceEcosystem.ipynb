{
 "cells": [
  {
   "cell_type": "markdown",
   "id": "73bce0c2-d3a7-4d77-a57a-bf38bad7b48f",
   "metadata": {},
   "source": [
    "# Data Science Tools and Ecosystem"
   ]
  },
  {
   "cell_type": "markdown",
   "id": "2aedd2cf-843c-4558-9bae-64b12c517981",
   "metadata": {},
   "source": [
    "## Author\n",
    "Ibrahim"
   ]
  },
  {
   "cell_type": "markdown",
   "id": "5602cb90-10f5-4f04-ba26-9ec8483fb71a",
   "metadata": {},
   "source": [
    "In this notebook, Data Science Tools and Ecosystem are summarized."
   ]
  },
  {
   "cell_type": "markdown",
   "id": "ffb8ffff-33f3-434c-9c65-7b147deaad1c",
   "metadata": {},
   "source": [
    "**Objectives:**\n",
    "- List Popular Languages used in Data Science\n",
    "- List commonly used libraries by Data Scientists\n",
    "- Evaluating arithmetic expressions\n",
    "  "
   ]
  },
  {
   "cell_type": "markdown",
   "id": "d1805cc7-f224-427a-8b55-b8ecb71f39b7",
   "metadata": {},
   "source": [
    "Some of the popular languages that Data Scientists use are:\n",
    "1. Python\n",
    "2. R\n",
    "3. Java"
   ]
  },
  {
   "cell_type": "markdown",
   "id": "227847aa-2845-4cb2-8463-e6eadb84ceed",
   "metadata": {},
   "source": [
    "Some of the commonly used libraries used by Data Scientists include:\n",
    "1. ggplot\n",
    "2. caret\n",
    "3. dplyr"
   ]
  },
  {
   "cell_type": "markdown",
   "id": "403d7723-9054-4ed0-8c2b-82587eabd870",
   "metadata": {},
   "source": [
    "| Data Science Tools |\n",
    "| ---- |\n",
    "| Jupyter Lite |\n",
    "| Google Colaboratory |\n",
    "| R Studio |"
   ]
  },
  {
   "cell_type": "markdown",
   "id": "fc515f36-6a0f-41fc-824b-85c2c58605de",
   "metadata": {},
   "source": [
    "### Below are a few examples of evaluating arithmetic expressions in Python."
   ]
  },
  {
   "cell_type": "code",
   "execution_count": 2,
   "id": "fdb3bdba-d667-4395-9758-7413b5ff06a5",
   "metadata": {},
   "outputs": [
    {
     "data": {
      "text/plain": [
       "17"
      ]
     },
     "execution_count": 2,
     "metadata": {},
     "output_type": "execute_result"
    }
   ],
   "source": [
    "# This is a simple arithmetic expression to multiply then add integers.\n",
    "(3*4) + 5"
   ]
  },
  {
   "cell_type": "code",
   "execution_count": 3,
   "id": "ddbf5c73-5f69-44d2-a7ff-750361d81590",
   "metadata": {},
   "outputs": [
    {
     "data": {
      "text/plain": [
       "3.3333333333333335"
      ]
     },
     "execution_count": 3,
     "metadata": {},
     "output_type": "execute_result"
    }
   ],
   "source": [
    "# This will convert 200 minutes into hours by dividing by 60.\n",
    "200 / 60"
   ]
  },
  {
   "cell_type": "markdown",
   "id": "bda4fdb0-5e60-4561-bbc0-63921b33bd08",
   "metadata": {},
   "source": []
  }
 ],
 "metadata": {
  "kernelspec": {
   "display_name": "Python 3 (ipykernel)",
   "language": "python",
   "name": "python3"
  },
  "language_info": {
   "codemirror_mode": {
    "name": "ipython",
    "version": 3
   },
   "file_extension": ".py",
   "mimetype": "text/x-python",
   "name": "python",
   "nbconvert_exporter": "python",
   "pygments_lexer": "ipython3",
   "version": "3.12.8"
  }
 },
 "nbformat": 4,
 "nbformat_minor": 5
}
